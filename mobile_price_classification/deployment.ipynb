{
 "cells": [
  {
   "cell_type": "code",
   "execution_count": 1,
   "metadata": {},
   "outputs": [],
   "source": [
    "import pickle\n",
    "import streamlit as st\n",
    "\n",
    "import pandas as pd\n",
    "\n",
    "from sklearn.preprocessing import StandardScaler"
   ]
  },
  {
   "cell_type": "code",
   "execution_count": 2,
   "metadata": {},
   "outputs": [],
   "source": [
    "with open ('models/model_svc_grid.pkl', 'rb') as f:\n",
    "    model = pickle.load(f)"
   ]
  },
  {
   "cell_type": "code",
   "execution_count": null,
   "metadata": {},
   "outputs": [],
   "source": [
    "cols=['battery_power', 'blue', 'clock_speed', 'dual_sim', 'fc', 'four_g', 'int_memory', 'm_dep', 'mobile_wt', 'n_cores', 'pc', 'px_height', 'px_width', 'ram', 'sc_h', 'sc_w', 'talk_time', 'three_g', 'touch_screen', 'wifi']"
   ]
  },
  {
   "cell_type": "code",
   "execution_count": 6,
   "metadata": {},
   "outputs": [
    {
     "name": "stderr",
     "output_type": "stream",
     "text": [
      "2024-04-15 16:56:28.460 \n",
      "  \u001b[33m\u001b[1mWarning:\u001b[0m to view this Streamlit app on a browser, run it with the following\n",
      "  command:\n",
      "\n",
      "    streamlit run C:\\Users\\srtos\\AppData\\Roaming\\Python\\Python312\\site-packages\\ipykernel_launcher.py [ARGUMENTS]\n"
     ]
    }
   ],
   "source": [
    "def main():\n",
    "    st.title('Mobile Price Classification')\n",
    "    html_temp = \"\"\"\n",
    "    <div style=\"background:#025246 ;padding:10px\">\n",
    "    <h2 style=\"color:white;text-align:center;\">Income Prediction App </h2>\n",
    "    </div>\n",
    "    \"\"\"\n",
    "    st.markdown(html_temp, unsafe_allow_html = True)\n",
    "    \n",
    "    battery_power = st.text_input(\"Battery Power\", '0')\n",
    "    blue = st.selectbox(\"Bluetooth\", ['0', '1'])\n",
    "    clock_speed = st.text_input(\"Clock Speed\", '0') \n",
    "    dual_sim = st.selectbox(\"Dual Sim\", ['0', '1'])\n",
    "    fc = st.text_input(\"Front Camera\", '0')   \n",
    "    four_g = st.selectbox(\"4G Support\", ['0', '1'])\n",
    "    int_memory = st.text_input(\"Internal Memory\", '0')\n",
    "    m_dep = st.text_input(\"Mobile Depth\", '0')\n",
    "    mobile_wt = st.text_input(\"Mobile Weight\", '0')\n",
    "    n_cores = st.text_input(\"Number of Cores\", '0')\n",
    "    pc = st.text_input(\"Primary Camera\", '0')\n",
    "    px_height = st.text_input(\"Pixel Height\", '0')\n",
    "    px_width = st.text_input(\"Pixel Width\", '0')\n",
    "    ram = st.text_input(\"RAM\", '0')\n",
    "    sc_h = st.text_input(\"Screen Height\", '0')\n",
    "    sc_w = st.text_input(\"Screen Width\", '0')\n",
    "    talk_time = st.text_input(\"Talktime\", '0')\n",
    "    three_g = st.selectbox(\"3G Support\", ['0', '1'])\n",
    "    touch_screen = st.selectbox(\"Touch Screen\", ['0', '1'])\n",
    "    wifi = st.selectbox(\"Wifi\", ['0', '1'])\n",
    "    \n",
    "    if st.button(\"Predict\"):\n",
    "        features = [battery_power, blue, clock_speed, dual_sim, fc, four_g, int_memory, m_dep, mobile_wt, n_cores, pc, px_height, px_width, ram, sc_h, sc_w, talk_time, three_g, touch_screen, wifi]\n",
    "        data = {\n",
    "            'battery_power' : float(battery_power),\n",
    "            'blue' : int(blue),\n",
    "            'clock_speed' : float(clock_speed),\n",
    "            'dual_sim' : int(dual_sim),\n",
    "            'fc' : float(fc),\n",
    "            'four_g' : int(four_g),\n",
    "            'int_memory' : float(int_memory),\n",
    "            'm_dep' : float(m_dep),\n",
    "            'mobile_wt' : float(mobile_wt),\n",
    "            'n_cores' : float(n_cores),\n",
    "            'pc' : float(pc),\n",
    "            'px_height' : float(px_height),\n",
    "            'px_width' : float(px_width),\n",
    "            'ram' : float(ram),\n",
    "            'sc_h' : float(sc_h),\n",
    "            'sc_w' : float(sc_w),\n",
    "            'talk_time' : float(talk_time),\n",
    "            'three_g' : int(three_g),\n",
    "            'touch_screen' : int(touch_screen),\n",
    "            'wifi' : int(wifi),\n",
    "        }\n",
    "        \n",
    "        df = pd.DataFrame([list(data.values())], colummns = ['battery_power', 'blue', 'clock_speed', 'dual_sim', 'fc', 'four_g', 'int_memory', 'm_dep', 'mobile_wt', 'n_cores', 'pc', 'px_height', 'px_width', 'ram', 'sc_h', 'sc_w', 'talk_time', 'three_g', 'touch_screen', 'wifi'])\n",
    "        \n",
    "        std_scaler = StandardScaler()\n",
    "        df = std_scaler.fit_transform(df)\n",
    "        \n",
    "        features_list = df.values.tolist()\n",
    "        prediction = model.predict(features_list)\n",
    "        \n",
    "        output = int(prediction)\n",
    "        \n",
    "        if output == 0:\n",
    "            text = 'low cost mobile'\n",
    "        elif output == 1:\n",
    "            text = 'medium cost mobile'\n",
    "        elif output == 2:\n",
    "            text = 'high cost mobile'\n",
    "        else:\n",
    "            text = 'very high cost mobile'\n",
    "        \n",
    "        st.success(f'This is a {text}!')\n",
    "        \n",
    "if __name__ == '__main__':\n",
    "    main()"
   ]
  }
 ],
 "metadata": {
  "kernelspec": {
   "display_name": "Python 3",
   "language": "python",
   "name": "python3"
  },
  "language_info": {
   "codemirror_mode": {
    "name": "ipython",
    "version": 3
   },
   "file_extension": ".py",
   "mimetype": "text/x-python",
   "name": "python",
   "nbconvert_exporter": "python",
   "pygments_lexer": "ipython3",
   "version": "3.12.1"
  }
 },
 "nbformat": 4,
 "nbformat_minor": 2
}
